{
 "cells": [
  {
   "cell_type": "code",
   "execution_count": 1,
   "metadata": {},
   "outputs": [],
   "source": [
    "import nltk"
   ]
  },
  {
   "cell_type": "markdown",
   "metadata": {},
   "source": [
    "##### ---Rule Based Chatbot(Common Product)\n",
    "##### --- Chat GPT"
   ]
  },
  {
   "cell_type": "code",
   "execution_count": 2,
   "metadata": {},
   "outputs": [],
   "source": [
    "from nltk.chat.util import Chat, reflections"
   ]
  },
  {
   "cell_type": "code",
   "execution_count": 23,
   "metadata": {},
   "outputs": [],
   "source": [
    "que1= r'how are you' #raw string, f-string ,b-string\n",
    "answers1=[\n",
    "    'all well',\n",
    "    'I am good',\n",
    "    'awesome'\n",
    "]\n",
    "\n",
    "que2= r'what can you do'\n",
    "answers2=[\n",
    "    'I can reply to your queries',\n",
    "    'I am here to answer your questions',\n",
    "    'I can chat with you'\n",
    "\n",
    "]\n",
    "\n",
    "que3=r'(.*)your name'\n",
    "answers3=[\n",
    "    'my name is chatty',\n",
    "    ' I am chatty'\n",
    "]\n",
    "\n",
    "que4= r'(.*)mausam(.*)ba[a]*rish'  #aaj mausam kaisa hai, kya aaj baarish hogi?\n",
    "answers4=[\n",
    "    'it looks it will rain today',\n",
    "    'baarish ka mausam hai',\n",
    "    'baarish ho sakti hai mausam kharaab hai'\n",
    "]\n",
    "\n",
    "\n",
    "# Question answer pairs\n",
    "qa_pair=[\n",
    "    (que1,answers1),\n",
    "    (que2,answers2),\n",
    "    (que3,answers3),\n",
    "    (que4,answers4),\n",
    "]\n"
   ]
  },
  {
   "cell_type": "code",
   "execution_count": 24,
   "metadata": {},
   "outputs": [],
   "source": [
    "chatbot= Chat(qa_pair)"
   ]
  },
  {
   "cell_type": "code",
   "execution_count": 25,
   "metadata": {},
   "outputs": [
    {
     "name": "stdout",
     "output_type": "stream",
     "text": [
      "Q: kya is mausam me barish ho sakti hai kya\n",
      "A: baarish ka mausam hai\n"
     ]
    }
   ],
   "source": [
    "question= input('Enter your question')\n",
    "print('Q:',question)\n",
    "reply= chatbot.respond(question)\n",
    "print('A:',reply)\n"
   ]
  },
  {
   "cell_type": "markdown",
   "metadata": {},
   "source": [
    "#### Regular Expression Symbols\n",
    "###### ()---->  Group\n",
    "######  .---->    Any character (except new line)\n",
    "######  *---->  zero or more occurrences\n",
    "###### [] --->  set of characters\n",
    "###### a-z --->   all the small alphabet\n",
    "###### A-Z --->   all the capital alphabet\n",
    "###### 0-9 ---->  all numbers \n",
    "######  ^---->    ends with \n",
    "######  ?---->    zero or more occurence only\n",
    "######  +---->   one or more occurence\n",
    "###### {}---->   exact number of occurence\n",
    "###### \\w---->   only word characters(alphabet, numbers and underscore)\n",
    "###### \\W--->   not word characters"
   ]
  },
  {
   "cell_type": "code",
   "execution_count": null,
   "metadata": {},
   "outputs": [],
   "source": []
  }
 ],
 "metadata": {
  "kernelspec": {
   "display_name": "Python 3",
   "language": "python",
   "name": "python3"
  },
  "language_info": {
   "codemirror_mode": {
    "name": "ipython",
    "version": 3
   },
   "file_extension": ".py",
   "mimetype": "text/x-python",
   "name": "python",
   "nbconvert_exporter": "python",
   "pygments_lexer": "ipython3",
   "version": "3.10.11"
  },
  "orig_nbformat": 4
 },
 "nbformat": 4,
 "nbformat_minor": 2
}
